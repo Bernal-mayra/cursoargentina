{
 "cells": [
  {
   "cell_type": "code",
   "execution_count": 1,
   "id": "059b3391",
   "metadata": {},
   "outputs": [],
   "source": [
    "#importacion del archivo CSV\n",
    "import pandas as pd\n",
    "import numpy as np\n",
    "import matplotlib.pyplot as plt\n",
    "\n",
    "df = pd.read_csv(\"C:/Users/berna/OneDrive/Escritorio/argentinaprograma/trabajofinal/Airline Dataset.csv\", sep=\",\")"
   ]
  },
  {
   "cell_type": "code",
   "execution_count": 2,
   "id": "77818c8e",
   "metadata": {},
   "outputs": [
    {
     "data": {
      "text/html": [
       "<div>\n",
       "<style scoped>\n",
       "    .dataframe tbody tr th:only-of-type {\n",
       "        vertical-align: middle;\n",
       "    }\n",
       "\n",
       "    .dataframe tbody tr th {\n",
       "        vertical-align: top;\n",
       "    }\n",
       "\n",
       "    .dataframe thead th {\n",
       "        text-align: right;\n",
       "    }\n",
       "</style>\n",
       "<table border=\"1\" class=\"dataframe\">\n",
       "  <thead>\n",
       "    <tr style=\"text-align: right;\">\n",
       "      <th></th>\n",
       "      <th>PassengerID</th>\n",
       "      <th>First Name</th>\n",
       "      <th>Last Name</th>\n",
       "      <th>Gender</th>\n",
       "      <th>Age</th>\n",
       "      <th>Nationality</th>\n",
       "      <th>Airport Name</th>\n",
       "      <th>Airport Country Code</th>\n",
       "      <th>Country Name</th>\n",
       "      <th>Airport Continent</th>\n",
       "      <th>Continents</th>\n",
       "      <th>Departure Date</th>\n",
       "      <th>Arrival Airport</th>\n",
       "      <th>Pilot Name</th>\n",
       "      <th>Flight Status</th>\n",
       "    </tr>\n",
       "  </thead>\n",
       "  <tbody>\n",
       "    <tr>\n",
       "      <th>0</th>\n",
       "      <td>10856</td>\n",
       "      <td>Edithe</td>\n",
       "      <td>Leggis</td>\n",
       "      <td>Female</td>\n",
       "      <td>62</td>\n",
       "      <td>Japan</td>\n",
       "      <td>Coldfoot Airport</td>\n",
       "      <td>US</td>\n",
       "      <td>United States</td>\n",
       "      <td>NAM</td>\n",
       "      <td>North America</td>\n",
       "      <td>6/28/2022</td>\n",
       "      <td>CXF</td>\n",
       "      <td>Edithe Leggis</td>\n",
       "      <td>On Time</td>\n",
       "    </tr>\n",
       "    <tr>\n",
       "      <th>1</th>\n",
       "      <td>43872</td>\n",
       "      <td>Elwood</td>\n",
       "      <td>Catt</td>\n",
       "      <td>Male</td>\n",
       "      <td>62</td>\n",
       "      <td>Nicaragua</td>\n",
       "      <td>Kugluktuk Airport</td>\n",
       "      <td>CA</td>\n",
       "      <td>Canada</td>\n",
       "      <td>NAM</td>\n",
       "      <td>North America</td>\n",
       "      <td>12/26/2022</td>\n",
       "      <td>YCO</td>\n",
       "      <td>Elwood Catt</td>\n",
       "      <td>On Time</td>\n",
       "    </tr>\n",
       "    <tr>\n",
       "      <th>2</th>\n",
       "      <td>42633</td>\n",
       "      <td>Darby</td>\n",
       "      <td>Felgate</td>\n",
       "      <td>Male</td>\n",
       "      <td>67</td>\n",
       "      <td>Russia</td>\n",
       "      <td>Grenoble-Isère Airport</td>\n",
       "      <td>FR</td>\n",
       "      <td>France</td>\n",
       "      <td>EU</td>\n",
       "      <td>Europe</td>\n",
       "      <td>1/18/2022</td>\n",
       "      <td>GNB</td>\n",
       "      <td>Darby Felgate</td>\n",
       "      <td>On Time</td>\n",
       "    </tr>\n",
       "    <tr>\n",
       "      <th>3</th>\n",
       "      <td>78493</td>\n",
       "      <td>Dominica</td>\n",
       "      <td>Pyle</td>\n",
       "      <td>Female</td>\n",
       "      <td>71</td>\n",
       "      <td>China</td>\n",
       "      <td>Ottawa / Gatineau Airport</td>\n",
       "      <td>CA</td>\n",
       "      <td>Canada</td>\n",
       "      <td>NAM</td>\n",
       "      <td>North America</td>\n",
       "      <td>9/16/2022</td>\n",
       "      <td>YND</td>\n",
       "      <td>Dominica Pyle</td>\n",
       "      <td>Delayed</td>\n",
       "    </tr>\n",
       "    <tr>\n",
       "      <th>4</th>\n",
       "      <td>82072</td>\n",
       "      <td>Bay</td>\n",
       "      <td>Pencost</td>\n",
       "      <td>Male</td>\n",
       "      <td>21</td>\n",
       "      <td>China</td>\n",
       "      <td>Gillespie Field</td>\n",
       "      <td>US</td>\n",
       "      <td>United States</td>\n",
       "      <td>NAM</td>\n",
       "      <td>North America</td>\n",
       "      <td>2/25/2022</td>\n",
       "      <td>SEE</td>\n",
       "      <td>Bay Pencost</td>\n",
       "      <td>On Time</td>\n",
       "    </tr>\n",
       "  </tbody>\n",
       "</table>\n",
       "</div>"
      ],
      "text/plain": [
       "   PassengerID First Name Last Name  Gender  Age Nationality  \\\n",
       "0        10856     Edithe    Leggis  Female   62       Japan   \n",
       "1        43872     Elwood      Catt    Male   62   Nicaragua   \n",
       "2        42633      Darby   Felgate    Male   67      Russia   \n",
       "3        78493   Dominica      Pyle  Female   71       China   \n",
       "4        82072        Bay   Pencost    Male   21       China   \n",
       "\n",
       "                Airport Name Airport Country Code   Country Name  \\\n",
       "0           Coldfoot Airport                   US  United States   \n",
       "1          Kugluktuk Airport                   CA         Canada   \n",
       "2     Grenoble-Isère Airport                   FR         France   \n",
       "3  Ottawa / Gatineau Airport                   CA         Canada   \n",
       "4            Gillespie Field                   US  United States   \n",
       "\n",
       "  Airport Continent     Continents Departure Date Arrival Airport  \\\n",
       "0               NAM  North America      6/28/2022             CXF   \n",
       "1               NAM  North America     12/26/2022             YCO   \n",
       "2                EU         Europe      1/18/2022             GNB   \n",
       "3               NAM  North America      9/16/2022             YND   \n",
       "4               NAM  North America      2/25/2022             SEE   \n",
       "\n",
       "      Pilot Name Flight Status  \n",
       "0  Edithe Leggis       On Time  \n",
       "1    Elwood Catt       On Time  \n",
       "2  Darby Felgate       On Time  \n",
       "3  Dominica Pyle       Delayed  \n",
       "4    Bay Pencost       On Time  "
      ]
     },
     "execution_count": 2,
     "metadata": {},
     "output_type": "execute_result"
    }
   ],
   "source": [
    "#imprimir las primeras 5 filas del df\n",
    "df.head()"
   ]
  },
  {
   "cell_type": "code",
   "execution_count": 3,
   "id": "3c9755dd",
   "metadata": {},
   "outputs": [
    {
     "data": {
      "text/html": [
       "<div>\n",
       "<style scoped>\n",
       "    .dataframe tbody tr th:only-of-type {\n",
       "        vertical-align: middle;\n",
       "    }\n",
       "\n",
       "    .dataframe tbody tr th {\n",
       "        vertical-align: top;\n",
       "    }\n",
       "\n",
       "    .dataframe thead th {\n",
       "        text-align: right;\n",
       "    }\n",
       "</style>\n",
       "<table border=\"1\" class=\"dataframe\">\n",
       "  <thead>\n",
       "    <tr style=\"text-align: right;\">\n",
       "      <th></th>\n",
       "      <th>PassengerID</th>\n",
       "      <th>First Name</th>\n",
       "      <th>Last Name</th>\n",
       "      <th>Gender</th>\n",
       "      <th>Age</th>\n",
       "      <th>Nationality</th>\n",
       "      <th>Airport Name</th>\n",
       "      <th>Airport Country Code</th>\n",
       "      <th>Country Name</th>\n",
       "      <th>Airport Continent</th>\n",
       "      <th>Continents</th>\n",
       "      <th>Departure Date</th>\n",
       "      <th>Arrival Airport</th>\n",
       "      <th>Pilot Name</th>\n",
       "      <th>Flight Status</th>\n",
       "    </tr>\n",
       "  </thead>\n",
       "  <tbody>\n",
       "    <tr>\n",
       "      <th>98614</th>\n",
       "      <td>58454</td>\n",
       "      <td>Gareth</td>\n",
       "      <td>Mugford</td>\n",
       "      <td>Male</td>\n",
       "      <td>85</td>\n",
       "      <td>China</td>\n",
       "      <td>Hasvik Airport</td>\n",
       "      <td>NO</td>\n",
       "      <td>Norway</td>\n",
       "      <td>EU</td>\n",
       "      <td>Europe</td>\n",
       "      <td>12/11/2022</td>\n",
       "      <td>HAA</td>\n",
       "      <td>Gareth Mugford</td>\n",
       "      <td>Cancelled</td>\n",
       "    </tr>\n",
       "    <tr>\n",
       "      <th>98615</th>\n",
       "      <td>22028</td>\n",
       "      <td>Kasey</td>\n",
       "      <td>Benedict</td>\n",
       "      <td>Female</td>\n",
       "      <td>19</td>\n",
       "      <td>Russia</td>\n",
       "      <td>Ampampamena Airport</td>\n",
       "      <td>MG</td>\n",
       "      <td>Madagascar</td>\n",
       "      <td>AF</td>\n",
       "      <td>Africa</td>\n",
       "      <td>10/30/2022</td>\n",
       "      <td>IVA</td>\n",
       "      <td>Kasey Benedict</td>\n",
       "      <td>Cancelled</td>\n",
       "    </tr>\n",
       "    <tr>\n",
       "      <th>98616</th>\n",
       "      <td>61732</td>\n",
       "      <td>Darrin</td>\n",
       "      <td>Lucken</td>\n",
       "      <td>Male</td>\n",
       "      <td>65</td>\n",
       "      <td>Indonesia</td>\n",
       "      <td>Albacete-Los Llanos Airport</td>\n",
       "      <td>ES</td>\n",
       "      <td>Spain</td>\n",
       "      <td>EU</td>\n",
       "      <td>Europe</td>\n",
       "      <td>9/10/2022</td>\n",
       "      <td>ABC</td>\n",
       "      <td>Darrin Lucken</td>\n",
       "      <td>On Time</td>\n",
       "    </tr>\n",
       "    <tr>\n",
       "      <th>98617</th>\n",
       "      <td>19819</td>\n",
       "      <td>Gayle</td>\n",
       "      <td>Lievesley</td>\n",
       "      <td>Female</td>\n",
       "      <td>34</td>\n",
       "      <td>China</td>\n",
       "      <td>Gagnoa Airport</td>\n",
       "      <td>CI</td>\n",
       "      <td>Côte d'Ivoire</td>\n",
       "      <td>AF</td>\n",
       "      <td>Africa</td>\n",
       "      <td>10/26/2022</td>\n",
       "      <td>GGN</td>\n",
       "      <td>Gayle Lievesley</td>\n",
       "      <td>Cancelled</td>\n",
       "    </tr>\n",
       "    <tr>\n",
       "      <th>98618</th>\n",
       "      <td>14485</td>\n",
       "      <td>Wilhelmine</td>\n",
       "      <td>Touret</td>\n",
       "      <td>Female</td>\n",
       "      <td>10</td>\n",
       "      <td>Poland</td>\n",
       "      <td>Yoshkar-Ola Airport</td>\n",
       "      <td>RU</td>\n",
       "      <td>Russian Federation</td>\n",
       "      <td>EU</td>\n",
       "      <td>Europe</td>\n",
       "      <td>4/16/2022</td>\n",
       "      <td>JOK</td>\n",
       "      <td>Wilhelmine Touret</td>\n",
       "      <td>Delayed</td>\n",
       "    </tr>\n",
       "  </tbody>\n",
       "</table>\n",
       "</div>"
      ],
      "text/plain": [
       "       PassengerID  First Name  Last Name  Gender  Age Nationality  \\\n",
       "98614        58454      Gareth    Mugford    Male   85       China   \n",
       "98615        22028       Kasey   Benedict  Female   19      Russia   \n",
       "98616        61732      Darrin     Lucken    Male   65   Indonesia   \n",
       "98617        19819       Gayle  Lievesley  Female   34       China   \n",
       "98618        14485  Wilhelmine     Touret  Female   10      Poland   \n",
       "\n",
       "                      Airport Name Airport Country Code        Country Name  \\\n",
       "98614               Hasvik Airport                   NO              Norway   \n",
       "98615          Ampampamena Airport                   MG          Madagascar   \n",
       "98616  Albacete-Los Llanos Airport                   ES               Spain   \n",
       "98617               Gagnoa Airport                   CI       Côte d'Ivoire   \n",
       "98618          Yoshkar-Ola Airport                   RU  Russian Federation   \n",
       "\n",
       "      Airport Continent Continents Departure Date Arrival Airport  \\\n",
       "98614                EU     Europe     12/11/2022             HAA   \n",
       "98615                AF     Africa     10/30/2022             IVA   \n",
       "98616                EU     Europe      9/10/2022             ABC   \n",
       "98617                AF     Africa     10/26/2022             GGN   \n",
       "98618                EU     Europe      4/16/2022             JOK   \n",
       "\n",
       "              Pilot Name Flight Status  \n",
       "98614     Gareth Mugford     Cancelled  \n",
       "98615     Kasey Benedict     Cancelled  \n",
       "98616      Darrin Lucken       On Time  \n",
       "98617    Gayle Lievesley     Cancelled  \n",
       "98618  Wilhelmine Touret       Delayed  "
      ]
     },
     "execution_count": 3,
     "metadata": {},
     "output_type": "execute_result"
    }
   ],
   "source": [
    "#ultimos 5 registros\n",
    "df.tail()"
   ]
  },
  {
   "cell_type": "code",
   "execution_count": 4,
   "id": "a420ddf3",
   "metadata": {},
   "outputs": [
    {
     "name": "stdout",
     "output_type": "stream",
     "text": [
      "(98619, 15)\n"
     ]
    }
   ],
   "source": [
    "#DIMENSIONES DEL DATASET\n",
    "print(df.shape)"
   ]
  },
  {
   "cell_type": "code",
   "execution_count": 5,
   "id": "a50abd43",
   "metadata": {},
   "outputs": [
    {
     "data": {
      "text/plain": [
       "PassengerID             98619\n",
       "First Name              98619\n",
       "Last Name               98619\n",
       "Gender                  98619\n",
       "Age                     98619\n",
       "Nationality             98619\n",
       "Airport Name            98619\n",
       "Airport Country Code    98619\n",
       "Country Name            98619\n",
       "Airport Continent       98619\n",
       "Continents              98619\n",
       "Departure Date          98619\n",
       "Arrival Airport         98619\n",
       "Pilot Name              98619\n",
       "Flight Status           98619\n",
       "dtype: int64"
      ]
     },
     "execution_count": 5,
     "metadata": {},
     "output_type": "execute_result"
    }
   ],
   "source": [
    "#Obtener la totalidad de registros por columnas ---> Analizar valores que missing (que no tengo)\n",
    "df.count()"
   ]
  },
  {
   "cell_type": "code",
   "execution_count": 6,
   "id": "0748a4d1",
   "metadata": {},
   "outputs": [
    {
     "data": {
      "text/plain": [
       "PassengerID              int64\n",
       "First Name              object\n",
       "Last Name               object\n",
       "Gender                  object\n",
       "Age                      int64\n",
       "Nationality             object\n",
       "Airport Name            object\n",
       "Airport Country Code    object\n",
       "Country Name            object\n",
       "Airport Continent       object\n",
       "Continents              object\n",
       "Departure Date          object\n",
       "Arrival Airport         object\n",
       "Pilot Name              object\n",
       "Flight Status           object\n",
       "dtype: object"
      ]
     },
     "execution_count": 6,
     "metadata": {},
     "output_type": "execute_result"
    }
   ],
   "source": [
    "#imprime el tipo de datos de cada columna\n",
    "df.dtypes"
   ]
  },
  {
   "cell_type": "code",
   "execution_count": 8,
   "id": "103f990b",
   "metadata": {},
   "outputs": [
    {
     "data": {
      "text/plain": [
       "PassengerID                      int64\n",
       "First Name                      object\n",
       "Last Name                       object\n",
       "Gender                          object\n",
       "Age                              int64\n",
       "Nationality                     object\n",
       "Airport Name                    object\n",
       "Airport Country Code            object\n",
       "Country Name                    object\n",
       "Airport Continent               object\n",
       "Continents                      object\n",
       "Departure Date          datetime64[ns]\n",
       "Arrival Airport                 object\n",
       "Pilot Name                      object\n",
       "Flight Status                   object\n",
       "dtype: object"
      ]
     },
     "execution_count": 8,
     "metadata": {},
     "output_type": "execute_result"
    }
   ],
   "source": [
    "df[\"Departure Date\"] = pd.to_datetime(df[\"Departure Date\"])\n",
    "df.dtypes"
   ]
  },
  {
   "cell_type": "code",
   "execution_count": 10,
   "id": "6662fc66",
   "metadata": {},
   "outputs": [
    {
     "data": {
      "text/plain": [
       "pandas.core.frame.DataFrame"
      ]
     },
     "execution_count": 10,
     "metadata": {},
     "output_type": "execute_result"
    }
   ],
   "source": [
    "#Estructura del dataset\n",
    "type(df)"
   ]
  },
  {
   "cell_type": "code",
   "execution_count": null,
   "id": "bc9efece",
   "metadata": {},
   "outputs": [],
   "source": [
    "#Listar los nombres de las columnas del Dataset\n",
    "print(df.columns)"
   ]
  },
  {
   "cell_type": "code",
   "execution_count": 11,
   "id": "7a452f85",
   "metadata": {},
   "outputs": [
    {
     "name": "stdout",
     "output_type": "stream",
     "text": [
      "<class 'pandas.core.frame.DataFrame'>\n",
      "RangeIndex: 98619 entries, 0 to 98618\n",
      "Data columns (total 15 columns):\n",
      " #   Column                Non-Null Count  Dtype         \n",
      "---  ------                --------------  -----         \n",
      " 0   PassengerID           98619 non-null  int64         \n",
      " 1   First Name            98619 non-null  object        \n",
      " 2   Last Name             98619 non-null  object        \n",
      " 3   Gender                98619 non-null  object        \n",
      " 4   Age                   98619 non-null  int64         \n",
      " 5   Nationality           98619 non-null  object        \n",
      " 6   Airport Name          98619 non-null  object        \n",
      " 7   Airport Country Code  98619 non-null  object        \n",
      " 8   Country Name          98619 non-null  object        \n",
      " 9   Airport Continent     98619 non-null  object        \n",
      " 10  Continents            98619 non-null  object        \n",
      " 11  Departure Date        98619 non-null  datetime64[ns]\n",
      " 12  Arrival Airport       98619 non-null  object        \n",
      " 13  Pilot Name            98619 non-null  object        \n",
      " 14  Flight Status         98619 non-null  object        \n",
      "dtypes: datetime64[ns](1), int64(2), object(12)\n",
      "memory usage: 11.3+ MB\n"
     ]
    }
   ],
   "source": [
    "#informacion\n",
    "df.info()"
   ]
  },
  {
   "cell_type": "code",
   "execution_count": 12,
   "id": "7651f9eb",
   "metadata": {},
   "outputs": [
    {
     "data": {
      "text/html": [
       "<div>\n",
       "<style scoped>\n",
       "    .dataframe tbody tr th:only-of-type {\n",
       "        vertical-align: middle;\n",
       "    }\n",
       "\n",
       "    .dataframe tbody tr th {\n",
       "        vertical-align: top;\n",
       "    }\n",
       "\n",
       "    .dataframe thead th {\n",
       "        text-align: right;\n",
       "    }\n",
       "</style>\n",
       "<table border=\"1\" class=\"dataframe\">\n",
       "  <thead>\n",
       "    <tr style=\"text-align: right;\">\n",
       "      <th></th>\n",
       "      <th>PassengerID</th>\n",
       "      <th>Age</th>\n",
       "    </tr>\n",
       "  </thead>\n",
       "  <tbody>\n",
       "    <tr>\n",
       "      <th>count</th>\n",
       "      <td>98619.000000</td>\n",
       "      <td>98619.000000</td>\n",
       "    </tr>\n",
       "    <tr>\n",
       "      <th>mean</th>\n",
       "      <td>55168.689522</td>\n",
       "      <td>45.504021</td>\n",
       "    </tr>\n",
       "    <tr>\n",
       "      <th>std</th>\n",
       "      <td>25985.443696</td>\n",
       "      <td>25.929849</td>\n",
       "    </tr>\n",
       "    <tr>\n",
       "      <th>min</th>\n",
       "      <td>10000.000000</td>\n",
       "      <td>1.000000</td>\n",
       "    </tr>\n",
       "    <tr>\n",
       "      <th>25%</th>\n",
       "      <td>32608.000000</td>\n",
       "      <td>23.000000</td>\n",
       "    </tr>\n",
       "    <tr>\n",
       "      <th>50%</th>\n",
       "      <td>55338.000000</td>\n",
       "      <td>46.000000</td>\n",
       "    </tr>\n",
       "    <tr>\n",
       "      <th>75%</th>\n",
       "      <td>77695.000000</td>\n",
       "      <td>68.000000</td>\n",
       "    </tr>\n",
       "    <tr>\n",
       "      <th>max</th>\n",
       "      <td>99999.000000</td>\n",
       "      <td>90.000000</td>\n",
       "    </tr>\n",
       "  </tbody>\n",
       "</table>\n",
       "</div>"
      ],
      "text/plain": [
       "        PassengerID           Age\n",
       "count  98619.000000  98619.000000\n",
       "mean   55168.689522     45.504021\n",
       "std    25985.443696     25.929849\n",
       "min    10000.000000      1.000000\n",
       "25%    32608.000000     23.000000\n",
       "50%    55338.000000     46.000000\n",
       "75%    77695.000000     68.000000\n",
       "max    99999.000000     90.000000"
      ]
     },
     "execution_count": 12,
     "metadata": {},
     "output_type": "execute_result"
    }
   ],
   "source": [
    "df.describe()"
   ]
  },
  {
   "cell_type": "code",
   "execution_count": 13,
   "id": "76f9947c",
   "metadata": {},
   "outputs": [
    {
     "data": {
      "text/plain": [
       "Cancelled    32942\n",
       "On Time      32846\n",
       "Delayed      32831\n",
       "Name: Flight Status, dtype: int64"
      ]
     },
     "execution_count": 13,
     "metadata": {},
     "output_type": "execute_result"
    }
   ],
   "source": [
    "df['Flight Status'].value_counts().head(10)"
   ]
  },
  {
   "cell_type": "code",
   "execution_count": 14,
   "id": "ea40eb53",
   "metadata": {},
   "outputs": [
    {
     "data": {
      "text/plain": [
       "<Axes: >"
      ]
     },
     "execution_count": 14,
     "metadata": {},
     "output_type": "execute_result"
    },
    {
     "data": {
      "image/png": "[encoded data removed]",
      "text/plain": [
       "<Figure size 640x480 with 1 Axes>"
      ]
     },
     "metadata": {},
     "output_type": "display_data"
    }
   ],
   "source": [
    "df['Continents'].value_counts().head(10).plot(kind='bar')"
   ]
  },
  {
   "cell_type": "code",
   "execution_count": 16,
   "id": "c3689b98",
   "metadata": {},
   "outputs": [
    {
     "data": {
      "text/plain": [
       "29    1170\n",
       "27    1164\n",
       "39    1155\n",
       "46    1151\n",
       "6     1148\n",
       "58    1147\n",
       "67    1145\n",
       "48    1137\n",
       "72    1136\n",
       "24    1136\n",
       "Name: Age, dtype: int64"
      ]
     },
     "execution_count": 16,
     "metadata": {},
     "output_type": "execute_result"
    }
   ],
   "source": [
    "df['Age'].value_counts().head(10)"
   ]
  },
  {
   "cell_type": "code",
   "execution_count": null,
   "id": "93115079",
   "metadata": {},
   "outputs": [],
   "source": []
  }
 ],
 "metadata": {
  "kernelspec": {
   "display_name": "Python 3 (ipykernel)",
   "language": "python",
   "name": "python3"
  },
  "language_info": {
   "codemirror_mode": {
    "name": "ipython",
    "version": 3
   },
   "file_extension": ".py",
   "mimetype": "text/x-python",
   "name": "python",
   "nbconvert_exporter": "python",
   "pygments_lexer": "ipython3",
   "version": "3.11.4"
  }
 },
 "nbformat": 4,
 "nbformat_minor": 5
}
